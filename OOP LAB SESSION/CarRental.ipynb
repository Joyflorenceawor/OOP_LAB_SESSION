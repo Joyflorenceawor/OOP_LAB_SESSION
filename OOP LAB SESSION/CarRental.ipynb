{
 "cells": [
  {
   "cell_type": "markdown",
   "metadata": {},
   "source": [
    "## LAB SESSION"
   ]
  },
  {
   "cell_type": "code",
   "execution_count": 1,
   "metadata": {},
   "outputs": [
    {
     "name": "stdout",
     "output_type": "stream",
     "text": [
      "Red\n",
      "This vehicle is Red\n"
     ]
    }
   ],
   "source": [
    "class Vehicle:\n",
    "    def __init__(self,color):\n",
    "        self.color = color\n",
    "    def getcolor(self):\n",
    "        return self.color\n",
    "   \n",
    "    def tostring(self):\n",
    "        return f\"This vehicle is {self.color}\"\n",
    "\n",
    "vehicle1 = Vehicle(\"Red\")\n",
    "print(vehicle1.getcolor())\n",
    "print(vehicle1.tostring())"
   ]
  },
  {
   "cell_type": "code",
   "execution_count": 40,
   "metadata": {},
   "outputs": [
    {
     "name": "stdout",
     "output_type": "stream",
     "text": [
      "This vehicle is blue\n",
      "Has winter tires:True\n"
     ]
    }
   ],
   "source": [
    "class Vehicle:\n",
    "    def __init__(self, color):\n",
    "        self.color = color\n",
    "    \n",
    "    def getColor(self):\n",
    "        return self.color\n",
    "    \n",
    "    def tostring(self):\n",
    "        return f\"This vehicle is {self.color}\"\n",
    "\n",
    "class Car(Vehicle):\n",
    "    def __init__(self, color, Has_winter_tires=False):\n",
    "        super().__init__(color)\n",
    "        self.Has_winter_tires = Has_winter_tires\n",
    "\n",
    "    def tostring(self):\n",
    "        super().tostring()\n",
    "        print(f\"This vehicle is {self.color}\\nHas winter tires:{self.Has_winter_tires}\")\n",
    "\n",
    "car = Car(\"blue\", True)\n",
    "car.tostring()"
   ]
  },
  {
   "cell_type": "code",
   "execution_count": 41,
   "metadata": {},
   "outputs": [
    {
     "name": "stdout",
     "output_type": "stream",
     "text": [
      "The vehicle is Grey\n",
      "Has trailer:True\n"
     ]
    }
   ],
   "source": [
    "class Vehicle:\n",
    "    def __init__(self, color):\n",
    "        self.color = color\n",
    "    \n",
    "    def getColor(self):\n",
    "        return self.color\n",
    "    \n",
    "    def tostring(self):\n",
    "        return f\"This vehicle is {self.color}\"\n",
    "\n",
    "class Truck(Vehicle):\n",
    "    def __init__(self, color, has_trailer=False):\n",
    "        super().__init__(color)\n",
    "        self.has_trailer = has_trailer\n",
    "\n",
    "    def tostring(self):\n",
    "        super().tostring()\n",
    "        print( f\"The vehicle is {self.color}\\nHas trailer:{ self.has_trailer}\")\n",
    "\n",
    "\n",
    "truck = Truck(\"Grey\", True)\n",
    "truck.tostring()\n"
   ]
  },
  {
   "cell_type": "code",
   "execution_count": 93,
   "metadata": {},
   "outputs": [
    {
     "name": "stdout",
     "output_type": "stream",
     "text": [
      "Description of the parked vehicle:\n",
      "This vehicle is red\n",
      "Has winter tires: True\n",
      "Description of the parked vehicle:\n",
      "This vehicle is blue\n",
      "Has trailer: False\n"
     ]
    }
   ],
   "source": [
    "class Vehicle:\n",
    "    def __init__(self, color):\n",
    "        self.color = color\n",
    "    \n",
    "    def getColor(self):\n",
    "        return self.color\n",
    "    \n",
    "    def tostring(self):\n",
    "        return f\"This vehicle is {self.color}\"\n",
    "\n",
    "class Car(Vehicle):\n",
    "    def __init__(self, color, has_winter_tires=False):\n",
    "        super().__init__(color)\n",
    "        self.has_winter_tires = has_winter_tires\n",
    "    \n",
    "    def tostring(self):\n",
    "        vehicle_str = super().tostring()\n",
    "        return f\"{vehicle_str}\\nHas winter tires: {self.has_winter_tires}\"    \n",
    "class Truck(Vehicle):\n",
    "    def __init__(self, color, has_trailer=False):\n",
    "        super().__init__(color)\n",
    "        self.has_trailer = has_trailer\n",
    "    \n",
    "    def tostring(self):\n",
    "        vehicle_str = super().tostring()\n",
    "        return f\"{vehicle_str}\\nHas trailer: {self.has_trailer}\"\n",
    "\n",
    "class Garage:\n",
    "    def __init__(self):\n",
    "        self.vehicle = None\n",
    "    \n",
    "    def setVehicle(self,vehicle):\n",
    "        self.parked_vehicle = vehicle\n",
    "\n",
    "    def tostring(self):\n",
    "        if self.parked_vehicle:\n",
    "            return f\"Description of the parked vehicle:\\n{self.parked_vehicle.tostring()}\"\n",
    "        else:\n",
    "            return \"The garage is empty.\"\n",
    "\n",
    "\n",
    "\n",
    "garage = Garage()\n",
    "\n",
    "car = Car(\"red\", True)\n",
    "garage.setVehicle(car)\n",
    "print(garage.tostring())  \n",
    "\n",
    "\n",
    "truck = Truck(\"blue\", False)\n",
    "garage.setVehicle(truck)\n",
    "print(garage.tostring()) \n"
   ]
  },
  {
   "cell_type": "code",
   "execution_count": 92,
   "metadata": {},
   "outputs": [
    {
     "name": "stdout",
     "output_type": "stream",
     "text": [
      "Description of the parked vehicle:\n",
      "This vehicle is black\n",
      "Has trailer: False\n"
     ]
    }
   ],
   "source": [
    "\n",
    "class Vehicle:\n",
    "    def __init__(self, color):\n",
    "        self.color = color\n",
    "    \n",
    "    def getColor(self):\n",
    "        return self.color\n",
    "    \n",
    "    def tostring(self):\n",
    "        return f\"This vehicle is {self.color}\"\n",
    "\n",
    "class Truck(Vehicle):\n",
    "    def __init__(self, color, has_trailer=False):\n",
    "        super().__init__(color)\n",
    "        self.has_trailer = has_trailer\n",
    "    \n",
    "    def tostring(self):\n",
    "        vehicle_str = super().tostring()\n",
    "        return f\"{vehicle_str}\\nHas trailer: {self.has_trailer}\"\n",
    "\n",
    "class Garage:\n",
    "    def __init__(self):\n",
    "        self.vehicle = None\n",
    "    \n",
    "    def setVehicle(self, vehicle):\n",
    "        self.parked_vehicle = vehicle\n",
    "    \n",
    "    def tostring(self):\n",
    "        if self.parked_vehicle:\n",
    "            return f\"Description of the parked vehicle:\\n{self.parked_vehicle.tostring()}\"\n",
    "        else:\n",
    "            return \"The garage is empty.\"\n",
    "\n",
    "class GarageTester:\n",
    "    def getExample(self):\n",
    "        truck = Truck(\"black\", False)\n",
    "        garage = Garage() \n",
    "        garage.setVehicle(truck)  \n",
    "        print(garage.tostring())  \n",
    "\n",
    "tester = GarageTester()  \n",
    "tester.getExample()\n",
    "\n"
   ]
  },
  {
   "cell_type": "code",
   "execution_count": 13,
   "metadata": {},
   "outputs": [
    {
     "name": "stdout",
     "output_type": "stream",
     "text": [
      "Customer Name: Mary Jane\n",
      "Address: 0022 Bukoto Street, HeightApartments\n"
     ]
    }
   ],
   "source": [
    "class Customer:\n",
    "    def __init__(self, name, address):\n",
    "        self.name = name\n",
    "        self.address = address\n",
    "    \n",
    "    def getName(self):\n",
    "        return self.name\n",
    "    \n",
    "    def getAddress(self):\n",
    "        return self.address\n",
    "\n",
    "    def displayinfo(self):\n",
    "      print(f\"Customer Name: {self.name}\\nAddress: {self.address}\") \n",
    "\n",
    "customer = Customer(\"Mary Jane\", \"0022 Bukoto Street, HeightApartments\")\n",
    "customer.displayinfo()\n"
   ]
  }
 ],
 "metadata": {
  "kernelspec": {
   "display_name": "Python 3",
   "language": "python",
   "name": "python3"
  },
  "language_info": {
   "codemirror_mode": {
    "name": "ipython",
    "version": 3
   },
   "file_extension": ".py",
   "mimetype": "text/x-python",
   "name": "python",
   "nbconvert_exporter": "python",
   "pygments_lexer": "ipython3",
   "version": "3.12.7"
  }
 },
 "nbformat": 4,
 "nbformat_minor": 2
}
